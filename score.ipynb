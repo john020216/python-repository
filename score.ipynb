{
 "cells": [
  {
   "cell_type": "code",
   "execution_count": 2,
   "metadata": {},
   "outputs": [
    {
     "name": "stdout",
     "output_type": "stream",
     "text": [
      "1 번째 과제점수: 90\n",
      "2 번째 과제점수: 90\n",
      "3 번째 과제점수: 90\n",
      "4 번째 과제점수: 90\n",
      "5 번째 과제점수: 90\n",
      "6 번째 과제점수: 90\n",
      "7 번째 과제점수: 90\n",
      "중간고사 점수: 90\n",
      "9 번째 과제점수: 90\n",
      "10 번째 과제점수: 90\n",
      "11 번째 과제점수: 90\n",
      "12 번째 과제점수: 90\n",
      "13 번째 과제점수: 90\n",
      "14 번째 과제점수: 90\n",
      "기말고사 점수: 90\n",
      "\n",
      "과제점수 = 36.00\n",
      "중간점수 = 27.00\n",
      "기말점수 = 27.00\n",
      "합계 = 90.00\n",
      "등급 = A\n"
     ]
    }
   ],
   "source": [
    "def Score():\n",
    "    \n",
    "   \n",
    "   for area in range(1, 8):\n",
    "       a = float(input(\"%d 번째 과제점수: \"%(area)))\n",
    "\n",
    "   e1 = int(input(\"중간고사 점수: \"))\n",
    "   \n",
    "   for area in range(9, 15):\n",
    "       a = float(input(\"%d 번째 과제점수: \"%(area)))\n",
    "       \n",
    "   e2 = int(input(\"기말고사 점수: \"))\n",
    "   \n",
    "   n = a * 0.4\n",
    "   b = e1 * 0.3\n",
    "   c = e2 * 0.3\n",
    "   \n",
    "   t = n + b + c\n",
    "   if  100 >= t >= 90:\n",
    "       grade = \"A\"\n",
    "   elif 90 >= t >= 80:\n",
    "        grade = \"B\"\n",
    "   elif 80 >= t >= 70:\n",
    "        grade = \"C\"\n",
    "   elif 70 >= t >= 60:\n",
    "        grade = \"D\"\n",
    "   elif t < 60:\n",
    "        grade = \"F\"\n",
    "    \n",
    "   print(\"\\n과제점수 = %.2f\"%n)\n",
    "   print(\"중간점수 = %.2f\"%b)\n",
    "   print(\"기말점수 = %.2f\"%c)\n",
    "   print(\"합계 = %.2f\"%(n+b+c))\n",
    "   print(\"등급 = %s\"%grade)\n",
    "\n",
    "Score()"
   ]
  },
  {
   "cell_type": "code",
   "execution_count": null,
   "metadata": {},
   "outputs": [],
   "source": []
  }
 ],
 "metadata": {
  "kernelspec": {
   "display_name": "Python 3",
   "language": "python",
   "name": "python3"
  },
  "language_info": {
   "codemirror_mode": {
    "name": "ipython",
    "version": 3
   },
   "file_extension": ".py",
   "mimetype": "text/x-python",
   "name": "python",
   "nbconvert_exporter": "python",
   "pygments_lexer": "ipython3",
   "version": "3.8.5"
  }
 },
 "nbformat": 4,
 "nbformat_minor": 4
}
